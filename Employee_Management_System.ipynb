{
  "nbformat": 4,
  "nbformat_minor": 0,
  "metadata": {
    "colab": {
      "provenance": []
    },
    "kernelspec": {
      "name": "python3",
      "display_name": "Python 3"
    },
    "language_info": {
      "name": "python"
    }
  },
  "cells": [
    {
      "cell_type": "code",
      "execution_count": 1,
      "metadata": {
        "colab": {
          "base_uri": "https://localhost:8080/"
        },
        "id": "BgpvJTZkG4pu",
        "outputId": "2ff519fc-2a08-458b-a2b5-da2080c25315"
      },
      "outputs": [
        {
          "output_type": "stream",
          "name": "stdout",
          "text": [
            "🆕 New employee dataset created.\n",
            "✅ Employee John Doe added successfully!\n",
            "✅ Employee Alice added successfully!\n",
            "✅ Employee Bob added successfully!\n",
            "\n",
            "📋 Employee List:\n",
            "    ID      Name Department  Salary\n",
            "0  101  John Doe         HR   55000\n",
            "1  102     Alice         IT   72000\n",
            "2  103       Bob    Finance   64000\n",
            "🔄 Employee ID 103 updated successfully!\n",
            "🗑 Employee ID 101 deleted successfully!\n",
            "\n",
            "📋 Employee List:\n",
            "    ID   Name Department  Salary\n",
            "1  102  Alice         IT   72000\n",
            "2  103    Bob    Finance   70000\n",
            "\n",
            "📊 HR Analytics Summary:\n",
            "Total Employees: 2\n",
            "Average Salary: ₹71000.00\n",
            "\n",
            "Average Salary by Department:\n",
            "Department\n",
            "Finance    70000.0\n",
            "IT         72000.0\n",
            "Name: Salary, dtype: float64\n"
          ]
        }
      ],
      "source": [
        "# 🧩 Employee Management System\n",
        "\n",
        "import pandas as pd\n",
        "\n",
        "# Step 1: Create or load dataset\n",
        "try:\n",
        "    df = pd.read_csv(\"employees.csv\")\n",
        "    print(\"✅ Existing employee data loaded.\")\n",
        "except:\n",
        "    df = pd.DataFrame(columns=[\"ID\", \"Name\", \"Department\", \"Salary\"])\n",
        "    print(\"🆕 New employee dataset created.\")\n",
        "\n",
        "# Step 2: Define CRUD functions\n",
        "def add_employee(emp_id, name, dept, salary):\n",
        "    global df\n",
        "    if emp_id in df['ID'].values:\n",
        "        print(\"⚠️ Employee ID already exists!\")\n",
        "        return\n",
        "    df.loc[len(df)] = [emp_id, name, dept, salary]\n",
        "    df.to_csv(\"employees.csv\", index=False)\n",
        "    print(f\"✅ Employee {name} added successfully!\")\n",
        "\n",
        "def view_employees():\n",
        "    print(\"\\n📋 Employee List:\")\n",
        "    print(df)\n",
        "\n",
        "def update_employee(emp_id, column, new_value):\n",
        "    if emp_id not in df['ID'].values:\n",
        "        print(\"❌ Employee not found!\")\n",
        "        return\n",
        "    df.loc[df['ID'] == emp_id, column] = new_value\n",
        "    df.to_csv(\"employees.csv\", index=False)\n",
        "    print(f\"🔄 Employee ID {emp_id} updated successfully!\")\n",
        "\n",
        "def delete_employee(emp_id):\n",
        "    global df\n",
        "    if emp_id not in df['ID'].values:\n",
        "        print(\"❌ Employee not found!\")\n",
        "        return\n",
        "    df = df[df['ID'] != emp_id]\n",
        "    df.to_csv(\"employees.csv\", index=False)\n",
        "    print(f\"🗑 Employee ID {emp_id} deleted successfully!\")\n",
        "\n",
        "def hr_report():\n",
        "    print(\"\\n📊 HR Analytics Summary:\")\n",
        "    print(f\"Total Employees: {len(df)}\")\n",
        "    print(f\"Average Salary: ₹{df['Salary'].mean():.2f}\")\n",
        "    print(\"\\nAverage Salary by Department:\")\n",
        "    print(df.groupby('Department')['Salary'].mean())\n",
        "\n",
        "# Step 3: Test the system\n",
        "add_employee(101, \"John Doe\", \"HR\", 55000)\n",
        "add_employee(102, \"Alice\", \"IT\", 72000)\n",
        "add_employee(103, \"Bob\", \"Finance\", 64000)\n",
        "view_employees()\n",
        "update_employee(103, \"Salary\", 70000)\n",
        "delete_employee(101)\n",
        "view_employees()\n",
        "hr_report()\n"
      ]
    }
  ]
}